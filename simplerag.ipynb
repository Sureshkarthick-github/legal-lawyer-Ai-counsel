{
 "cells": [
  {
   "cell_type": "code",
   "execution_count": null,
   "metadata": {},
   "outputs": [
    {
     "data": {
      "text/plain": [
       "[Document(metadata={'source': 'speech.txt'}, page_content='Ladies and Gentlemen,\\n\\nGood [morning/afternoon/evening] to all of you! Today, I stand before you with a heart full of gratitude and a mind brimming with ideas. It is an honor to address this gathering, and I hope to leave you with something valuable to think about.\\n\\nIn a world that is constantly evolving, change is the only constant. Whether it is technology, culture, or our own personal lives, change shapes our experiences and drives us forward. Embracing change can often be daunting, but it is through this embrace that we discover new opportunities and unlock our true potential.\\n\\nTake a moment to think about the advancements we\\'ve witnessed in the last decade. From smartphones that connect us globally to breakthroughs in medicine that save lives, innovation has transformed the way we live. These advancements were only possible because individuals and organizations were willing to adapt, to dream big, and to take risks.\\n\\nBut change is not just about technology or industries. It is also about personal growth. Each of us, in our own unique journey, faces moments where we need to step out of our comfort zones. Whether it\\'s starting a new job, moving to a different city, or learning a new skill, these experiences mold us into stronger, more resilient individuals.\\n\\nHowever, adapting to change does not mean forgetting our roots. Our values, traditions, and cultures are the anchors that keep us grounded. They remind us of where we come from and guide us as we navigate the uncharted waters of the future. It is this balanceâ€”between holding on to our values and being open to new experiencesâ€”that defines true growth.\\n\\nOne of the key elements in managing change is perspective. Instead of viewing challenges as obstacles, what if we saw them as opportunities? What if every setback was a setup for a comeback? History is filled with stories of people who turned failures into successes simply because they chose to see things differently.\\n\\nConsider Thomas Edison, who famously said, \"I have not failed. I\\'ve just found 10,000 ways that won\\'t work.\" His perspective turned repeated failure into eventual success, giving the world the electric light bulb. Such stories remind us that our attitude towards change often determines our outcomes.\\n\\nAnother important aspect is resilience. Life, as we all know, is not always smooth sailing. There will be storms, but how we weather them defines us. Building resilience involves cultivating a mindset that no matter what happens, we have the strength to rise again. It is about turning wounds into wisdom.\\n\\nAnd finally, let us not forget the power of unity and collaboration. Change is easier when we support one another. When communities come together, they can achieve extraordinary things. Whether it is addressing global challenges like climate change or local issues within our neighborhoods, collective action amplifies impact.\\n\\nAs I conclude, I encourage each of you to embrace change with an open mind and a courageous heart. Be a learner, a dreamer, and above all, a doer. The future is not something we enter; it is something we create. And each of us has the power to shape it.\\n\\nThank you, and I wish you all the best in your journey ahead!')]"
      ]
     },
     "execution_count": 1,
     "metadata": {},
     "output_type": "execute_result"
    }
   ],
   "source": [
    "from langchain_community.document_loaders import \n",
    "loader=TextLoader(\"speech.txt\")\n",
    "text_documents=loader.load()\n",
    "text_documents"
   ]
  },
  {
   "cell_type": "code",
   "execution_count": null,
   "metadata": {},
   "outputs": [],
   "source": [
    "import os\n",
    "from dotenv import load_dotenv\n",
    "load_dotenv\n",
    "os."
   ]
  }
 ],
 "metadata": {
  "kernelspec": {
   "display_name": "Python 3",
   "language": "python",
   "name": "python3"
  },
  "language_info": {
   "codemirror_mode": {
    "name": "ipython",
    "version": 3
   },
   "file_extension": ".py",
   "mimetype": "text/x-python",
   "name": "python",
   "nbconvert_exporter": "python",
   "pygments_lexer": "ipython3",
   "version": "3.11.9"
  }
 },
 "nbformat": 4,
 "nbformat_minor": 2
}
